{
 "cells": [
  {
   "cell_type": "code",
   "execution_count": 1,
   "id": "c063417e",
   "metadata": {},
   "outputs": [],
   "source": [
    "import os\n",
    "import sys\n",
    "import glob\n",
    "import matplotlib.pyplot as plt\n",
    "import numpy as np\n",
    "import pandas as pd\n",
    "%matplotlib inline\n",
    "%precision 4\n",
    "plt.style.use('ggplot')"
   ]
  },
  {
   "cell_type": "code",
   "execution_count": 2,
   "id": "46490549",
   "metadata": {},
   "outputs": [
    {
     "name": "stdout",
     "output_type": "stream",
     "text": [
      "[[1. 3. 4.]\n",
      " [2. 1. 3.]\n",
      " [4. 1. 2.]]\n",
      "[[1.  0.  0. ]\n",
      " [2.  1.  0. ]\n",
      " [4.  2.2 1. ]]\n",
      "[[ 1  3  4]\n",
      " [ 0 -5 -5]\n",
      " [ 0  0 -3]]\n"
     ]
    }
   ],
   "source": [
    "import numpy as np\n",
    "import scipy.linalg as la\n",
    "np.set_printoptions(suppress=True)\n",
    "\n",
    "A = np.array([[1,3,4],[2,1,3],[4,1,2]])\n",
    "\n",
    "L = np.array([[1,0,0],[2,1,0],[4,11/5,1]])\n",
    "U = np.array([[1,3,4],[0,-5,-5],[0,0,-3]])\n",
    "print(L.dot(U))\n",
    "print(L)\n",
    "print(U)"
   ]
  },
  {
   "cell_type": "code",
   "execution_count": 3,
   "id": "be6ef37e",
   "metadata": {},
   "outputs": [
    {
     "name": "stdout",
     "output_type": "stream",
     "text": [
      "[[1 3 4]\n",
      " [2 1 3]\n",
      " [4 1 2]]\n",
      "[[4. 1. 2.]\n",
      " [1. 3. 4.]\n",
      " [2. 1. 3.]]\n",
      "[[4. 1. 2.]\n",
      " [1. 3. 4.]\n",
      " [2. 1. 3.]]\n",
      "[[0. 1. 0.]\n",
      " [0. 0. 1.]\n",
      " [1. 0. 0.]]\n",
      "[[1.     0.     0.    ]\n",
      " [0.25   1.     0.    ]\n",
      " [0.5    0.1818 1.    ]]\n",
      "[[4.     1.     2.    ]\n",
      " [0.     2.75   3.5   ]\n",
      " [0.     0.     1.3636]]\n"
     ]
    }
   ],
   "source": [
    "import numpy as np\n",
    "import scipy.linalg as la\n",
    "np.set_printoptions(suppress=True)\n",
    "\n",
    "A = np.array([[1,3,4],[2,1,3],[4,1,2]])\n",
    "\n",
    "print(A)\n",
    "\n",
    "P, L, U = la.lu(A)\n",
    "print(np.dot(P.T, A))\n",
    "print\n",
    "print(np.dot(L, U))\n",
    "print(P)\n",
    "print(L)\n",
    "print(U)"
   ]
  },
  {
   "cell_type": "code",
   "execution_count": 4,
   "id": "01416ebd",
   "metadata": {},
   "outputs": [
    {
     "name": "stdout",
     "output_type": "stream",
     "text": [
      "[[ 1.  3.  5.]\n",
      " [ 3. 13. 23.]\n",
      " [ 5. 23. 42.]]\n",
      "[[1. 3. 5.]\n",
      " [0. 2. 4.]\n",
      " [0. 0. 1.]]\n",
      "[[ 1  3  5]\n",
      " [ 3 13 23]\n",
      " [ 5 23 42]]\n"
     ]
    }
   ],
   "source": [
    "A = np.array([[1,3,5],[3,13,23],[5,23,42]])\n",
    "L = la.cholesky(A)\n",
    "print(np.dot(L.T, L))\n",
    "\n",
    "print(L)\n",
    "print(A)"
   ]
  },
  {
   "cell_type": "code",
   "execution_count": 5,
   "id": "71b55d22",
   "metadata": {},
   "outputs": [
    {
     "name": "stdout",
     "output_type": "stream",
     "text": [
      "[[ 0.+0.j  1.+0.j  1.+0.j]\n",
      " [ 2.+0.j  1.+0.j -0.+0.j]\n",
      " [ 3.+0.j  4.+0.j  5.+0.j]]\n",
      "[ 5.8541+0.j -0.8541+0.j  1.    +0.j]\n"
     ]
    }
   ],
   "source": [
    "A = np.array([[0,1,1],[2,1,0],[3,4,5]])\n",
    "\n",
    "u, V = la.eig(A)\n",
    "print(np.dot(V,np.dot(np.diag(u), la.inv(V))))\n",
    "print(u)"
   ]
  },
  {
   "cell_type": "code",
   "execution_count": 6,
   "id": "5ceeb80c",
   "metadata": {},
   "outputs": [
    {
     "name": "stdout",
     "output_type": "stream",
     "text": [
      "[[ 0  1]\n",
      " [-1  0]]\n",
      "[[ 0.+0.j  1.+0.j]\n",
      " [-1.+0.j  0.+0.j]]\n",
      "[0.+1.j 0.-1.j]\n"
     ]
    }
   ],
   "source": [
    "A = np.array([[0,1],[-1,0]])\n",
    "print(A)\n",
    "\n",
    "u, V = la.eig(A)\n",
    "print(np.dot(V,np.dot(np.diag(u), la.inv(V))))\n",
    "print(u)"
   ]
  },
  {
   "cell_type": "code",
   "execution_count": 13,
   "id": "2cebb1c3",
   "metadata": {},
   "outputs": [
    {
     "ename": "SyntaxError",
     "evalue": "invalid syntax (<ipython-input-13-4191cdc06203>, line 8)",
     "output_type": "error",
     "traceback": [
      "\u001b[1;36m  File \u001b[1;32m\"<ipython-input-13-4191cdc06203>\"\u001b[1;36m, line \u001b[1;32m8\u001b[0m\n\u001b[1;33m    print np.real_if_close(u)\u001b[0m\n\u001b[1;37m          ^\u001b[0m\n\u001b[1;31mSyntaxError\u001b[0m\u001b[1;31m:\u001b[0m invalid syntax\n"
     ]
    }
   ],
   "source": [
    "# If you know the eigenvalues must be real\n",
    "# because A is a positive definite (e.g. covariance) matrix\n",
    "# use real_if_close\n",
    "\n",
    "A = np.array([[0,1,1],[2,1,0],[3,4,5]])\n",
    "u, V = la.eig(A)\n",
    "print(u)\n",
    "print np.real_if_close(u)"
   ]
  },
  {
   "cell_type": "code",
   "execution_count": 9,
   "id": "7f76b1f8",
   "metadata": {},
   "outputs": [
    {
     "data": {
      "text/plain": [
       "array([1., 1., 1., 1.])"
      ]
     },
     "execution_count": 9,
     "metadata": {},
     "output_type": "execute_result"
    }
   ],
   "source": [
    "A = np.array([[8,6,4,1],[1,4,5,1],[8,4,1,1],[1,4,3,6]])\n",
    "b = np.array([19,11,14,14])\n",
    "la.solve(A,b)"
   ]
  },
  {
   "cell_type": "code",
   "execution_count": 10,
   "id": "8eea19a9",
   "metadata": {},
   "outputs": [
    {
     "data": {
      "text/plain": [
       "array([-2.34 ,  9.745, -4.85 , -1.34 ])"
      ]
     },
     "execution_count": 10,
     "metadata": {},
     "output_type": "execute_result"
    }
   ],
   "source": [
    "b = np.array([19.01,11.05,14.07,14.05])\n",
    "la.solve(A,b)"
   ]
  },
  {
   "cell_type": "code",
   "execution_count": 12,
   "id": "2490115e",
   "metadata": {},
   "outputs": [
    {
     "name": "stdout",
     "output_type": "stream",
     "text": [
      "[15.5457  6.9002  3.8363  0.0049]\n",
      "3198.6725811997335\n"
     ]
    }
   ],
   "source": [
    "U, s, V = np.linalg.svd(A)\n",
    "print(s)\n",
    "print(max(s)/min(s))"
   ]
  },
  {
   "cell_type": "markdown",
   "id": "e8cd491e",
   "metadata": {},
   "source": [
    "# EXERCISES"
   ]
  },
  {
   "cell_type": "code",
   "execution_count": null,
   "id": "f032cc32",
   "metadata": {},
   "outputs": [],
   "source": []
  }
 ],
 "metadata": {
  "kernelspec": {
   "display_name": "Python 3",
   "language": "python",
   "name": "python3"
  },
  "language_info": {
   "codemirror_mode": {
    "name": "ipython",
    "version": 3
   },
   "file_extension": ".py",
   "mimetype": "text/x-python",
   "name": "python",
   "nbconvert_exporter": "python",
   "pygments_lexer": "ipython3",
   "version": "3.8.8"
  }
 },
 "nbformat": 4,
 "nbformat_minor": 5
}
