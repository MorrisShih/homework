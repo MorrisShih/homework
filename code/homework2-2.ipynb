{
 "cells": [
  {
   "cell_type": "code",
   "execution_count": 6,
   "id": "f9f78bae",
   "metadata": {},
   "outputs": [],
   "source": [
    "import sympy as sm"
   ]
  },
  {
   "cell_type": "code",
   "execution_count": 7,
   "id": "7d7036a7",
   "metadata": {},
   "outputs": [],
   "source": [
    "x = sm.symbols('x')"
   ]
  },
  {
   "cell_type": "code",
   "execution_count": 8,
   "id": "d1a4a6a5",
   "metadata": {},
   "outputs": [],
   "source": [
    "y = sm.symbols('y')"
   ]
  },
  {
   "cell_type": "code",
   "execution_count": 9,
   "id": "aeb0d179",
   "metadata": {},
   "outputs": [],
   "source": [
    "z = (5-x)*(y-5)*(x-y)"
   ]
  },
  {
   "cell_type": "code",
   "execution_count": 10,
   "id": "41c4c642",
   "metadata": {},
   "outputs": [
    {
     "data": {
      "text/latex": [
       "$\\displaystyle \\left(5 - x\\right) \\left(y - 5\\right) + \\left(5 - y\\right) \\left(x - y\\right)$"
      ],
      "text/plain": [
       "(5 - x)*(y - 5) + (5 - y)*(x - y)"
      ]
     },
     "execution_count": 10,
     "metadata": {},
     "output_type": "execute_result"
    }
   ],
   "source": [
    "z.diff(x)"
   ]
  },
  {
   "cell_type": "code",
   "execution_count": 11,
   "id": "5b461147",
   "metadata": {},
   "outputs": [
    {
     "data": {
      "text/latex": [
       "$\\displaystyle \\left(5 - x\\right) \\left(x - y\\right) - \\left(5 - x\\right) \\left(y - 5\\right)$"
      ],
      "text/plain": [
       "(5 - x)*(x - y) - (5 - x)*(y - 5)"
      ]
     },
     "execution_count": 11,
     "metadata": {},
     "output_type": "execute_result"
    }
   ],
   "source": [
    "z.diff(y)"
   ]
  },
  {
   "cell_type": "code",
   "execution_count": 12,
   "id": "c962e268",
   "metadata": {},
   "outputs": [
    {
     "data": {
      "text/latex": [
       "$\\displaystyle x^{3} \\left(\\frac{5}{3} - \\frac{y}{3}\\right) + x^{2} \\left(\\frac{y^{2}}{2} - \\frac{25}{2}\\right) + x \\left(- 5 y^{2} + 25 y\\right)$"
      ],
      "text/plain": [
       "x**3*(5/3 - y/3) + x**2*(y**2/2 - 25/2) + x*(-5*y**2 + 25*y)"
      ]
     },
     "execution_count": 12,
     "metadata": {},
     "output_type": "execute_result"
    }
   ],
   "source": [
    "z.integrate(x)"
   ]
  },
  {
   "cell_type": "code",
   "execution_count": 13,
   "id": "60464b9e",
   "metadata": {},
   "outputs": [
    {
     "data": {
      "text/latex": [
       "$\\displaystyle y^{3} \\left(\\frac{x}{3} - \\frac{5}{3}\\right) + y^{2} \\left(\\frac{25}{2} - \\frac{x^{2}}{2}\\right) + y \\left(5 x^{2} - 25 x\\right)$"
      ],
      "text/plain": [
       "y**3*(x/3 - 5/3) + y**2*(25/2 - x**2/2) + y*(5*x**2 - 25*x)"
      ]
     },
     "execution_count": 13,
     "metadata": {},
     "output_type": "execute_result"
    }
   ],
   "source": [
    "z.integrate(y)"
   ]
  },
  {
   "cell_type": "code",
   "execution_count": 14,
   "id": "4d3c0430",
   "metadata": {},
   "outputs": [],
   "source": [
    "%matplotlib qt"
   ]
  },
  {
   "cell_type": "code",
   "execution_count": 15,
   "id": "7589d5fd",
   "metadata": {},
   "outputs": [],
   "source": [
    "import sympy.plotting as smpl"
   ]
  },
  {
   "cell_type": "code",
   "execution_count": 30,
   "id": "7c4c326a",
   "metadata": {},
   "outputs": [],
   "source": [
    "fg=smpl.plot3d(\n",
    "    z,\n",
    "    (x,-100,100),\n",
    "    (y,-1000,100),\n",
    "    xlabel=f'{x}',\n",
    "    ylabel=f'{y}',\n",
    "    zlabel=f'z',\n",
    "    title=f'z = (5-x)*(y-5)*(x-y)',\n",
    "    show=False\n",
    ")"
   ]
  },
  {
   "cell_type": "code",
   "execution_count": 31,
   "id": "2a9af42d",
   "metadata": {},
   "outputs": [],
   "source": [
    "fg.legend=True"
   ]
  },
  {
   "cell_type": "code",
   "execution_count": 33,
   "id": "8ea15e20",
   "metadata": {
    "scrolled": true
   },
   "outputs": [
    {
     "name": "stderr",
     "output_type": "stream",
     "text": [
      "No handles with labels found to put in legend.\n"
     ]
    }
   ],
   "source": [
    "fg.show()"
   ]
  },
  {
   "cell_type": "code",
   "execution_count": 19,
   "id": "bcf56e08",
   "metadata": {},
   "outputs": [
    {
     "data": {
      "text/latex": [
       "$\\displaystyle \\left(5 - x\\right) \\left(y - 5\\right) + \\left(5 - y\\right) \\left(x - y\\right)$"
      ],
      "text/plain": [
       "(5 - x)*(y - 5) + (5 - y)*(x - y)"
      ]
     },
     "execution_count": 19,
     "metadata": {},
     "output_type": "execute_result"
    }
   ],
   "source": [
    "dzx=z.diff(x)\n",
    "dzx"
   ]
  },
  {
   "cell_type": "code",
   "execution_count": 20,
   "id": "9449dc72",
   "metadata": {},
   "outputs": [
    {
     "data": {
      "text/latex": [
       "$\\displaystyle \\left(5 - x\\right) \\left(x - y\\right) - \\left(5 - x\\right) \\left(y - 5\\right)$"
      ],
      "text/plain": [
       "(5 - x)*(x - y) - (5 - x)*(y - 5)"
      ]
     },
     "execution_count": 20,
     "metadata": {},
     "output_type": "execute_result"
    }
   ],
   "source": [
    "dzy=z.diff(y)\n",
    "dzy"
   ]
  },
  {
   "cell_type": "code",
   "execution_count": 23,
   "id": "683bd241",
   "metadata": {},
   "outputs": [
    {
     "data": {
      "text/latex": [
       "$\\displaystyle \\left(5 - x\\right) \\left(y - 5\\right) + \\left(5 - y\\right) \\left(x - y\\right) = 0$"
      ],
      "text/plain": [
       "Eq((5 - x)*(y - 5) + (5 - y)*(x - y), 0)"
      ]
     },
     "execution_count": 23,
     "metadata": {},
     "output_type": "execute_result"
    }
   ],
   "source": [
    "eq1= sm.Eq(dzx,0)\n",
    "eq1"
   ]
  },
  {
   "cell_type": "code",
   "execution_count": 24,
   "id": "0ccd3601",
   "metadata": {},
   "outputs": [
    {
     "data": {
      "text/latex": [
       "$\\displaystyle \\left(5 - x\\right) \\left(x - y\\right) - \\left(5 - x\\right) \\left(y - 5\\right) = 0$"
      ],
      "text/plain": [
       "Eq((5 - x)*(x - y) - (5 - x)*(y - 5), 0)"
      ]
     },
     "execution_count": 24,
     "metadata": {},
     "output_type": "execute_result"
    }
   ],
   "source": [
    "eq2= sm.Eq(dzy,0)\n",
    "eq2"
   ]
  },
  {
   "cell_type": "code",
   "execution_count": 29,
   "id": "58e29225",
   "metadata": {},
   "outputs": [
    {
     "data": {
      "text/plain": [
       "[{x: 5, y: 5}]"
      ]
     },
     "execution_count": 29,
     "metadata": {},
     "output_type": "execute_result"
    }
   ],
   "source": [
    "sm.solve([eq1, eq2],x,y,\n",
    "    dict=True\n",
    "    #simplify=True\n",
    ")"
   ]
  },
  {
   "cell_type": "code",
   "execution_count": null,
   "id": "8445d402",
   "metadata": {},
   "outputs": [],
   "source": []
  }
 ],
 "metadata": {
  "kernelspec": {
   "display_name": "Python 3",
   "language": "python",
   "name": "python3"
  },
  "language_info": {
   "codemirror_mode": {
    "name": "ipython",
    "version": 3
   },
   "file_extension": ".py",
   "mimetype": "text/x-python",
   "name": "python",
   "nbconvert_exporter": "python",
   "pygments_lexer": "ipython3",
   "version": "3.8.8"
  }
 },
 "nbformat": 4,
 "nbformat_minor": 5
}
