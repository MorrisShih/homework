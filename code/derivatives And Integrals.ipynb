{
 "cells": [
  {
   "cell_type": "code",
   "execution_count": 14,
   "id": "f79695f3",
   "metadata": {},
   "outputs": [],
   "source": [
    "from sympy import diff, Symbol,integrate"
   ]
  },
  {
   "cell_type": "code",
   "execution_count": 3,
   "id": "09281429",
   "metadata": {},
   "outputs": [],
   "source": [
    "x = Symbol('x')"
   ]
  },
  {
   "cell_type": "code",
   "execution_count": 12,
   "id": "1ff12451",
   "metadata": {},
   "outputs": [
    {
     "data": {
      "text/latex": [
       "$\\displaystyle 4 x + 3$"
      ],
      "text/plain": [
       "4*x + 3"
      ]
     },
     "execution_count": 12,
     "metadata": {},
     "output_type": "execute_result"
    }
   ],
   "source": [
    "diff(2*x**2+3*x+2, x)"
   ]
  },
  {
   "cell_type": "code",
   "execution_count": 15,
   "id": "abbce9e7",
   "metadata": {},
   "outputs": [
    {
     "data": {
      "text/latex": [
       "$\\displaystyle \\frac{2 x^{3}}{3} + \\frac{3 x^{2}}{2} + 2 x$"
      ],
      "text/plain": [
       "2*x**3/3 + 3*x**2/2 + 2*x"
      ]
     },
     "execution_count": 15,
     "metadata": {},
     "output_type": "execute_result"
    }
   ],
   "source": [
    "integrate(2*x**2+3*x+2, x)"
   ]
  },
  {
   "cell_type": "code",
   "execution_count": 17,
   "id": "e01a7e90",
   "metadata": {},
   "outputs": [
    {
     "data": {
      "text/latex": [
       "$\\displaystyle 1.5 x + 0.285714285714286$"
      ],
      "text/plain": [
       "1.5*x + 0.285714285714286"
      ]
     },
     "execution_count": 17,
     "metadata": {},
     "output_type": "execute_result"
    }
   ],
   "source": [
    "diff((3/4)*x**2+(2/7)*x+1/2, x)"
   ]
  },
  {
   "cell_type": "code",
   "execution_count": 18,
   "id": "a4f9d30a",
   "metadata": {},
   "outputs": [
    {
     "data": {
      "text/latex": [
       "$\\displaystyle 0.25 x^{3} + 0.142857142857143 x^{2} + 0.5 x$"
      ],
      "text/plain": [
       "0.25*x**3 + 0.142857142857143*x**2 + 0.5*x"
      ]
     },
     "execution_count": 18,
     "metadata": {},
     "output_type": "execute_result"
    }
   ],
   "source": [
    "integrate((3/4)*x**2+(2/7)*x+1/2, x)"
   ]
  },
  {
   "cell_type": "code",
   "execution_count": null,
   "id": "c1039a49",
   "metadata": {},
   "outputs": [],
   "source": []
  }
 ],
 "metadata": {
  "kernelspec": {
   "display_name": "Python 3",
   "language": "python",
   "name": "python3"
  },
  "language_info": {
   "codemirror_mode": {
    "name": "ipython",
    "version": 3
   },
   "file_extension": ".py",
   "mimetype": "text/x-python",
   "name": "python",
   "nbconvert_exporter": "python",
   "pygments_lexer": "ipython3",
   "version": "3.8.8"
  }
 },
 "nbformat": 4,
 "nbformat_minor": 5
}
