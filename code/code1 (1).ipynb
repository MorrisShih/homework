{
 "cells": [
  {
   "cell_type": "markdown",
   "id": "648eaf22",
   "metadata": {},
   "source": [
    "# 3 variables"
   ]
  },
  {
   "cell_type": "code",
   "execution_count": 1,
   "id": "c4fe7569",
   "metadata": {},
   "outputs": [],
   "source": [
    "import numpy as np\n",
    "import scipy.linalg as sp_linalg"
   ]
  },
  {
   "cell_type": "code",
   "execution_count": 5,
   "id": "2f41558d",
   "metadata": {},
   "outputs": [
    {
     "name": "stdout",
     "output_type": "stream",
     "text": [
      "A=\n",
      " [[ 1  4  3]\n",
      " [ 3 -4  7]\n",
      " [ 4  9 -2]]\n",
      "b=\n",
      " [[4]\n",
      " [7]\n",
      " [2]]\n",
      "x= [[0.5]\n",
      " [0.2]\n",
      " [0.9]]\n"
     ]
    }
   ],
   "source": [
    "A= [[1,  4,  3],\n",
    "    [3, -4,  7],\n",
    "    [4, 9, -2]]\n",
    "A= np.array(A)\n",
    "b=[[4],\n",
    "    [7],\n",
    "    [2]]\n",
    "b= np.array(b)\n",
    "\n",
    "x=np.linalg.solve(A,b)\n",
    "print(\"A=\\n\",A)\n",
    "print(\"b=\\n\",b)\n",
    "print(\"x=\",x)"
   ]
  },
  {
   "cell_type": "markdown",
   "id": "623977ba",
   "metadata": {},
   "source": [
    "# check"
   ]
  },
  {
   "cell_type": "code",
   "execution_count": 6,
   "id": "097deae7",
   "metadata": {},
   "outputs": [
    {
     "data": {
      "text/plain": [
       "array([[4.],\n",
       "       [7.],\n",
       "       [2.]])"
      ]
     },
     "execution_count": 6,
     "metadata": {},
     "output_type": "execute_result"
    }
   ],
   "source": [
    "Ai=np.linalg.inv(A)\n",
    "b=np.linalg.solve(Ai,x)\n",
    "b"
   ]
  },
  {
   "cell_type": "markdown",
   "id": "129b0093",
   "metadata": {},
   "source": [
    "# 5 variables"
   ]
  },
  {
   "cell_type": "code",
   "execution_count": 7,
   "id": "93e6d3ee",
   "metadata": {},
   "outputs": [
    {
     "name": "stdout",
     "output_type": "stream",
     "text": [
      "A=\n",
      " [[ 3  4  3  2 -4]\n",
      " [-2 -6  4  3  2]\n",
      " [ 1 -8 -1  3 -1]\n",
      " [ 5  2  3  5  1]\n",
      " [ 4  1 -2  3  3]]\n",
      "b=\n",
      " [[4]\n",
      " [7]\n",
      " [5]\n",
      " [8]\n",
      " [2]]\n",
      "x= [[ 0.60836177]\n",
      " [-0.44027304]\n",
      " [ 0.93088737]\n",
      " [ 0.60580205]\n",
      " [ 0.01706485]]\n"
     ]
    }
   ],
   "source": [
    "A= [[3,  4,  3,  2,  -4],\n",
    "    [-2, -6,  4,  3,  2],\n",
    "    [1, -8,  -1,  3,  -1],\n",
    "    [5, 2,  3,  5, 1],\n",
    "    [4, 1, -2,  3,  3]]\n",
    "A= np.array(A)\n",
    "b=[[4],\n",
    "    [7],\n",
    "    [5],\n",
    "    [8],\n",
    "    [2]]\n",
    "b= np.array(b)\n",
    "\n",
    "x=np.linalg.solve(A,b)\n",
    "print(\"A=\\n\",A)\n",
    "print(\"b=\\n\",b)\n",
    "print(\"x=\",x)"
   ]
  },
  {
   "cell_type": "markdown",
   "id": "ac70c8be",
   "metadata": {},
   "source": [
    "# check"
   ]
  },
  {
   "cell_type": "code",
   "execution_count": 8,
   "id": "dad5d80c",
   "metadata": {},
   "outputs": [
    {
     "data": {
      "text/plain": [
       "array([[4.],\n",
       "       [7.],\n",
       "       [5.],\n",
       "       [8.],\n",
       "       [2.]])"
      ]
     },
     "execution_count": 8,
     "metadata": {},
     "output_type": "execute_result"
    }
   ],
   "source": [
    "Ai=np.linalg.inv(A)\n",
    "b=np.linalg.solve(Ai,x)\n",
    "b"
   ]
  },
  {
   "cell_type": "markdown",
   "id": "f8a78d1f",
   "metadata": {},
   "source": [
    "# 10 variables"
   ]
  },
  {
   "cell_type": "code",
   "execution_count": 9,
   "id": "90e1d318",
   "metadata": {},
   "outputs": [
    {
     "name": "stdout",
     "output_type": "stream",
     "text": [
      "A=\n",
      " [[  1   4   3   2  -4   3   4   3   8  -4]\n",
      " [ -2  -6   4   3   2   2   0   3   6   5]\n",
      " [  1  -8  -1   3  -1   1   4   3   1  -7]\n",
      " [  5   2   3   5   1   1   4   3   2   8]\n",
      " [  7   3  -2   4   3   0   4  16   2  -1]\n",
      " [  9   1  -2   6   7   1   2  11   2   3]\n",
      " [  5   5  -2   7   2   4   3   7   2   5]\n",
      " [  8   4 -12   5   8   1   4   5   2   2]\n",
      " [  6   4  -2   6   3   1   4   3   5  -4]\n",
      " [  4   1  -2   5   4   2   3   0   4  14]]\n",
      "b=\n",
      " [[ 4]\n",
      " [11]\n",
      " [23]\n",
      " [87]\n",
      " [ 4]\n",
      " [ 2]\n",
      " [61]\n",
      " [ 7]\n",
      " [88]\n",
      " [13]]\n",
      "x= [[-26.74113597]\n",
      " [ 12.15806771]\n",
      " [ 18.67054697]\n",
      " [ 10.12508465]\n",
      " [ 32.44939834]\n",
      " [  4.58489912]\n",
      " [ 37.46315556]\n",
      " [ -4.17414068]\n",
      " [-17.527362  ]\n",
      " [ -6.19466167]]\n"
     ]
    }
   ],
   "source": [
    "A= [[1,  4,  3,  2,  -4,  3,  4,  3,  8,  -4],\n",
    "    [-2, -6,  4,  3,  2,  2,  0,  3,  6,  5],\n",
    "    [1, -8,  -1,  3,  -1,  1,  4,  3,  1,  -7],\n",
    "    [5, 2,  3,  5, 1,  1,  4,  3,  2,  8],\n",
    "    [7, 3, -2,  4,  3,  0,  4,  16,  2,  -1],\n",
    "    [9, 1, -2,  6,  7,  1,  2,  11,  2,  3],\n",
    "    [5, 5, -2,  7,  2,  4,  3,  7,  2,  5],\n",
    "    [8, 4, -12,  5,  8,  1,  4,  5,  2,  2],\n",
    "    [6, 4, -2,  6,  3,  1,  4,  3,  5,  -4],\n",
    "    [4, 1, -2,  5,  4,  2,  3,  0,  4,  14]]\n",
    "A= np.array(A)\n",
    "b=[[4],\n",
    "    [11],\n",
    "    [23],\n",
    "    [87],\n",
    "    [4],\n",
    "    [2],\n",
    "    [61],\n",
    "    [7],\n",
    "    [88],\n",
    "    [13]]\n",
    "b= np.array(b)\n",
    "\n",
    "x=np.linalg.solve(A,b)\n",
    "print(\"A=\\n\",A)\n",
    "print(\"b=\\n\",b)\n",
    "print(\"x=\",x)"
   ]
  },
  {
   "cell_type": "markdown",
   "id": "88137242",
   "metadata": {},
   "source": [
    "# check"
   ]
  },
  {
   "cell_type": "code",
   "execution_count": 10,
   "id": "cc54d285",
   "metadata": {},
   "outputs": [
    {
     "data": {
      "text/plain": [
       "array([[ 4.],\n",
       "       [11.],\n",
       "       [23.],\n",
       "       [87.],\n",
       "       [ 4.],\n",
       "       [ 2.],\n",
       "       [61.],\n",
       "       [ 7.],\n",
       "       [88.],\n",
       "       [13.]])"
      ]
     },
     "execution_count": 10,
     "metadata": {},
     "output_type": "execute_result"
    }
   ],
   "source": [
    "Ai=np.linalg.inv(A)\n",
    "b=np.linalg.solve(Ai,x)\n",
    "b"
   ]
  },
  {
   "cell_type": "code",
   "execution_count": null,
   "id": "e298fa8e",
   "metadata": {},
   "outputs": [],
   "source": []
  }
 ],
 "metadata": {
  "kernelspec": {
   "display_name": "Python 3",
   "language": "python",
   "name": "python3"
  },
  "language_info": {
   "codemirror_mode": {
    "name": "ipython",
    "version": 3
   },
   "file_extension": ".py",
   "mimetype": "text/x-python",
   "name": "python",
   "nbconvert_exporter": "python",
   "pygments_lexer": "ipython3",
   "version": "3.8.8"
  }
 },
 "nbformat": 4,
 "nbformat_minor": 5
}
