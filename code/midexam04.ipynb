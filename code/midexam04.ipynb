{
 "cells": [
  {
   "cell_type": "code",
   "execution_count": 12,
   "id": "21633ce7",
   "metadata": {},
   "outputs": [],
   "source": [
    "import sympy as sm\n",
    "from sympy import Symbol,integrate\n",
    "from math import e"
   ]
  },
  {
   "cell_type": "code",
   "execution_count": 15,
   "id": "a9a01fc4",
   "metadata": {},
   "outputs": [],
   "source": [
    "x = sm.symbols('x')"
   ]
  },
  {
   "cell_type": "code",
   "execution_count": 16,
   "id": "4915bcd6",
   "metadata": {},
   "outputs": [],
   "source": [
    "def f(x):\n",
    "    return (x**10)*e**(-x)"
   ]
  },
  {
   "cell_type": "code",
   "execution_count": 17,
   "id": "b7a74f1d",
   "metadata": {},
   "outputs": [
    {
     "data": {
      "text/latex": [
       "$\\displaystyle 2.71828182845905^{- x} x^{10}$"
      ],
      "text/plain": [
       "2.71828182845905**(-x)*x**10"
      ]
     },
     "execution_count": 17,
     "metadata": {},
     "output_type": "execute_result"
    }
   ],
   "source": [
    "f(x)"
   ]
  },
  {
   "cell_type": "code",
   "execution_count": 18,
   "id": "a5f90894",
   "metadata": {},
   "outputs": [
    {
     "data": {
      "text/latex": [
       "$\\displaystyle 1.0 \\cdot 2.71828182845905^{- x} \\left(- 1.0 x^{10} - 10.0 x^{9} - 90.0 x^{8} - 720.0 x^{7} - 5040.0 x^{6} - 30240.0 x^{5} - 151200.0 x^{4} - 604800.0 x^{3} - 1814400.0 x^{2} - 3628800.0 x - 3628800.0\\right)$"
      ],
      "text/plain": [
       "1.0*2.71828182845905**(-x)*(-1.0*x**10 - 10.0*x**9 - 90.0*x**8 - 720.0*x**7 - 5040.0*x**6 - 30240.0*x**5 - 151200.0*x**4 - 604800.0*x**3 - 1814400.0*x**2 - 3628800.0*x - 3628800.0)"
      ]
     },
     "execution_count": 18,
     "metadata": {},
     "output_type": "execute_result"
    }
   ],
   "source": [
    "f(x).integrate()"
   ]
  },
  {
   "cell_type": "code",
   "execution_count": null,
   "id": "8a52554e",
   "metadata": {},
   "outputs": [],
   "source": []
  }
 ],
 "metadata": {
  "kernelspec": {
   "display_name": "Python 3",
   "language": "python",
   "name": "python3"
  },
  "language_info": {
   "codemirror_mode": {
    "name": "ipython",
    "version": 3
   },
   "file_extension": ".py",
   "mimetype": "text/x-python",
   "name": "python",
   "nbconvert_exporter": "python",
   "pygments_lexer": "ipython3",
   "version": "3.8.8"
  }
 },
 "nbformat": 4,
 "nbformat_minor": 5
}
