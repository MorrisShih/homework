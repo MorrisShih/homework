{
 "cells": [
  {
   "cell_type": "code",
   "execution_count": 86,
   "id": "6e612d6a",
   "metadata": {},
   "outputs": [],
   "source": [
    "from sympy import diff, Symbol,integrate"
   ]
  },
  {
   "cell_type": "code",
   "execution_count": 87,
   "id": "5394e9fe",
   "metadata": {},
   "outputs": [],
   "source": [
    "import sympy as sm"
   ]
  },
  {
   "cell_type": "code",
   "execution_count": 88,
   "id": "b06e97b1",
   "metadata": {},
   "outputs": [],
   "source": [
    "import numpy as np"
   ]
  },
  {
   "cell_type": "code",
   "execution_count": 89,
   "id": "ec3b6a6e",
   "metadata": {},
   "outputs": [],
   "source": [
    "from math import e"
   ]
  },
  {
   "cell_type": "code",
   "execution_count": 90,
   "id": "a0f9b3d5",
   "metadata": {},
   "outputs": [],
   "source": [
    "import sympy.plotting as smpl"
   ]
  },
  {
   "cell_type": "code",
   "execution_count": 91,
   "id": "4af18eaf",
   "metadata": {},
   "outputs": [],
   "source": [
    "from sympy.plotting import plot3d"
   ]
  },
  {
   "cell_type": "code",
   "execution_count": 92,
   "id": "a9dc6633",
   "metadata": {},
   "outputs": [],
   "source": [
    "x = Symbol('x')"
   ]
  },
  {
   "cell_type": "code",
   "execution_count": 93,
   "id": "602ad9e8",
   "metadata": {},
   "outputs": [],
   "source": [
    "y = Symbol('y')"
   ]
  },
  {
   "cell_type": "code",
   "execution_count": 94,
   "id": "32ac828e",
   "metadata": {},
   "outputs": [],
   "source": [
    "def f(x,y):\n",
    "    return e**((-1)*((x-1)**2+(y+1)**2))"
   ]
  },
  {
   "cell_type": "code",
   "execution_count": 95,
   "id": "cc298722",
   "metadata": {},
   "outputs": [
    {
     "data": {
      "text/latex": [
       "$\\displaystyle 2.71828182845905^{- \\left(x - 1\\right)^{2} - \\left(y + 1\\right)^{2}}$"
      ],
      "text/plain": [
       "2.71828182845905**(-(x - 1)**2 - (y + 1)**2)"
      ]
     },
     "execution_count": 95,
     "metadata": {},
     "output_type": "execute_result"
    }
   ],
   "source": [
    "f(x,y)"
   ]
  },
  {
   "cell_type": "code",
   "execution_count": 96,
   "id": "fb423e70",
   "metadata": {},
   "outputs": [
    {
     "data": {
      "text/latex": [
       "$\\displaystyle 2.71828182845905^{- \\left(x - 1\\right)^{2} - \\left(y + 1\\right)^{2}} \\left(2.0 - 2.0 x\\right)$"
      ],
      "text/plain": [
       "2.71828182845905**(-(x - 1)**2 - (y + 1)**2)*(2.0 - 2.0*x)"
      ]
     },
     "execution_count": 96,
     "metadata": {},
     "output_type": "execute_result"
    }
   ],
   "source": [
    "dzx=f(x,y).diff(x)\n",
    "dzx"
   ]
  },
  {
   "cell_type": "code",
   "execution_count": 97,
   "id": "5b3470fd",
   "metadata": {},
   "outputs": [
    {
     "data": {
      "text/latex": [
       "$\\displaystyle 2.71828182845905^{- \\left(x - 1\\right)^{2} - \\left(y + 1\\right)^{2}} \\left(- 2.0 y - 2.0\\right)$"
      ],
      "text/plain": [
       "2.71828182845905**(-(x - 1)**2 - (y + 1)**2)*(-2.0*y - 2.0)"
      ]
     },
     "execution_count": 97,
     "metadata": {},
     "output_type": "execute_result"
    }
   ],
   "source": [
    "dzy=f(x,y).diff(y)\n",
    "dzy"
   ]
  },
  {
   "cell_type": "code",
   "execution_count": 98,
   "id": "3b85bebd",
   "metadata": {},
   "outputs": [
    {
     "data": {
      "text/latex": [
       "$\\displaystyle 2.71828182845905^{- \\left(x - 1\\right)^{2} - \\left(y + 1\\right)^{2}} \\left(2.0 - 2.0 x\\right) \\left(- 2.0 y - 2.0\\right)$"
      ],
      "text/plain": [
       "2.71828182845905**(-(x - 1)**2 - (y + 1)**2)*(2.0 - 2.0*x)*(-2.0*y - 2.0)"
      ]
     },
     "execution_count": 98,
     "metadata": {},
     "output_type": "execute_result"
    }
   ],
   "source": [
    "dzxy=dzx.diff(y)\n",
    "dzxy"
   ]
  },
  {
   "cell_type": "code",
   "execution_count": 99,
   "id": "65a9e82d",
   "metadata": {},
   "outputs": [],
   "source": [
    "eq1= sm.Eq(dzx, 0)"
   ]
  },
  {
   "cell_type": "code",
   "execution_count": 100,
   "id": "5987e4ce",
   "metadata": {},
   "outputs": [],
   "source": [
    "eq2= sm.Eq(dzy, 0)"
   ]
  },
  {
   "cell_type": "code",
   "execution_count": 101,
   "id": "63da30ca",
   "metadata": {},
   "outputs": [
    {
     "data": {
      "text/latex": [
       "$\\displaystyle 2.71828182845905^{- \\left(x - 1\\right)^{2} - \\left(y + 1\\right)^{2}} \\left(2.0 - 2.0 x\\right) = 0$"
      ],
      "text/plain": [
       "Eq(2.71828182845905**(-(x - 1)**2 - (y + 1)**2)*(2.0 - 2.0*x), 0)"
      ]
     },
     "execution_count": 101,
     "metadata": {},
     "output_type": "execute_result"
    }
   ],
   "source": [
    "eq1"
   ]
  },
  {
   "cell_type": "code",
   "execution_count": 102,
   "id": "46fbc96b",
   "metadata": {},
   "outputs": [
    {
     "data": {
      "text/latex": [
       "$\\displaystyle 2.71828182845905^{- \\left(x - 1\\right)^{2} - \\left(y + 1\\right)^{2}} \\left(- 2.0 y - 2.0\\right) = 0$"
      ],
      "text/plain": [
       "Eq(2.71828182845905**(-(x - 1)**2 - (y + 1)**2)*(-2.0*y - 2.0), 0)"
      ]
     },
     "execution_count": 102,
     "metadata": {},
     "output_type": "execute_result"
    }
   ],
   "source": [
    "eq2"
   ]
  },
  {
   "cell_type": "code",
   "execution_count": 103,
   "id": "24048a58",
   "metadata": {},
   "outputs": [],
   "source": [
    "s=sm.solve([eq1, eq2],x,y,  \n",
    "    dict=True\n",
    ") "
   ]
  },
  {
   "cell_type": "code",
   "execution_count": 104,
   "id": "f65e1662",
   "metadata": {},
   "outputs": [
    {
     "data": {
      "text/plain": [
       "[{x: 1.00000000000000, y: -1.00000000000000}]"
      ]
     },
     "execution_count": 104,
     "metadata": {},
     "output_type": "execute_result"
    }
   ],
   "source": [
    "s"
   ]
  },
  {
   "cell_type": "code",
   "execution_count": 105,
   "id": "59a3ce96",
   "metadata": {},
   "outputs": [],
   "source": [
    "%matplotlib qt"
   ]
  },
  {
   "cell_type": "code",
   "execution_count": 106,
   "id": "616f14d8",
   "metadata": {},
   "outputs": [],
   "source": [
    "fg=smpl.plot3d(\n",
    "    f(x,y),\n",
    "    (x,-10,10),(y,-10,10), \n",
    "    xlabel='x', \n",
    "    ylabel='y', \n",
    "    title=f'z= {f(x,y)}'\n",
    ")"
   ]
  },
  {
   "cell_type": "code",
   "execution_count": 108,
   "id": "684d35f4",
   "metadata": {},
   "outputs": [
    {
     "data": {
      "text/plain": [
       "1.0"
      ]
     },
     "execution_count": 108,
     "metadata": {},
     "output_type": "execute_result"
    }
   ],
   "source": [
    "f(1,-1)"
   ]
  },
  {
   "cell_type": "code",
   "execution_count": null,
   "id": "72ca64ab",
   "metadata": {},
   "outputs": [],
   "source": []
  },
  {
   "cell_type": "code",
   "execution_count": null,
   "id": "7dc66b05",
   "metadata": {},
   "outputs": [],
   "source": []
  },
  {
   "cell_type": "code",
   "execution_count": null,
   "id": "ead52844",
   "metadata": {},
   "outputs": [],
   "source": []
  }
 ],
 "metadata": {
  "kernelspec": {
   "display_name": "Python 3",
   "language": "python",
   "name": "python3"
  },
  "language_info": {
   "codemirror_mode": {
    "name": "ipython",
    "version": 3
   },
   "file_extension": ".py",
   "mimetype": "text/x-python",
   "name": "python",
   "nbconvert_exporter": "python",
   "pygments_lexer": "ipython3",
   "version": "3.8.8"
  }
 },
 "nbformat": 4,
 "nbformat_minor": 5
}
