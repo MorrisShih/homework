{
 "cells": [
  {
   "cell_type": "code",
   "execution_count": 1,
   "id": "ee43d969",
   "metadata": {},
   "outputs": [
    {
     "data": {
      "text/plain": [
       "array([[ 1,  2,  3],\n",
       "       [ 4,  5,  6],\n",
       "       [ 7,  8, 10]])"
      ]
     },
     "execution_count": 1,
     "metadata": {},
     "output_type": "execute_result"
    }
   ],
   "source": [
    "import numpy as np\n",
    "import scipy.linalg as sp_linalg\n",
    "import pandas as pd\n",
    "\n",
    "\n",
    "#%% ry: Row Operation for 3x3 matrix\n",
    "\n",
    "A0= np.array(\n",
    "    [[1, 2, 3],\n",
    "     [4, 5, 6],\n",
    "     [7, 8, 10]])\n",
    "\n",
    "A= A0.copy()\n",
    "A"
   ]
  },
  {
   "cell_type": "code",
   "execution_count": 2,
   "id": "ae2a5d37",
   "metadata": {},
   "outputs": [],
   "source": [
    "assert A[0,0] !=0 # otherwise, rowChange(A,0)"
   ]
  },
  {
   "cell_type": "code",
   "execution_count": 5,
   "id": "3aa17cfb",
   "metadata": {},
   "outputs": [],
   "source": [
    "c10= -A[1,0]/A[0,0]\n",
    "P10= np.array(\n",
    "    [[1, 0, 0],\n",
    "     [c10, 1, 0],\n",
    "     [0, 0, 1]])\n",
    "\n",
    "A= P10@A"
   ]
  },
  {
   "cell_type": "code",
   "execution_count": 6,
   "id": "4d698364",
   "metadata": {},
   "outputs": [],
   "source": [
    "c20= -A[2,0]/A[0,0]\n",
    "P20= np.array(\n",
    "    [[1, 0, 0],\n",
    "     [0, 1, 0],\n",
    "     [c20, 0, 1]])\n",
    "\n",
    "A= P20@A"
   ]
  },
  {
   "cell_type": "code",
   "execution_count": 7,
   "id": "a78bed4a",
   "metadata": {},
   "outputs": [],
   "source": [
    "assert A[1,1] !=0  # otherwise, rowChange(A,1)"
   ]
  },
  {
   "cell_type": "code",
   "execution_count": 8,
   "id": "b499515c",
   "metadata": {},
   "outputs": [],
   "source": [
    "c21= -A[2,1]/A[1,1]\n",
    "P21= np.array(\n",
    "    [[1, 0, 0],\n",
    "     [0, 1, 0],\n",
    "     [0, c21, 1]])\n",
    "A= P21@A\n",
    "\n",
    "A1= A\n",
    "\n",
    "P= P21@P20@P10\n",
    "invP= np.linalg.inv(P)"
   ]
  },
  {
   "cell_type": "code",
   "execution_count": 10,
   "id": "7bad4a3c",
   "metadata": {},
   "outputs": [
    {
     "name": "stdout",
     "output_type": "stream",
     "text": [
      "\n",
      "A0= \n",
      "[[ 1  2  3]\n",
      " [ 4  5  6]\n",
      " [ 7  8 10]]\n",
      "\n",
      "invP= \n",
      "[[ 1. -0. -0.]\n",
      " [ 0.  1.  0.]\n",
      " [ 7.  2.  1.]]\n",
      "\n",
      "A1= \n",
      "[[ 1.  2.  3.]\n",
      " [ 0. -3. -6.]\n",
      " [ 0.  0.  1.]]   \n",
      "\n"
     ]
    }
   ],
   "source": [
    "print(f'''\n",
    "A0= \n",
    "{A0}\n",
    "\n",
    "invP= \n",
    "{invP}\n",
    "\n",
    "A1= \n",
    "{A1}   \n",
    "''')"
   ]
  },
  {
   "cell_type": "code",
   "execution_count": 12,
   "id": "e07bb9dd",
   "metadata": {},
   "outputs": [
    {
     "data": {
      "text/plain": [
       "(array([[1]]),\n",
       " array([[2, 1],\n",
       "        [1, 2]]),\n",
       " array([[3, 2, 1],\n",
       "        [2, 3, 2],\n",
       "        [1, 2, 3]]))"
      ]
     },
     "execution_count": 12,
     "metadata": {},
     "output_type": "execute_result"
    }
   ],
   "source": [
    "#%%\n",
    "\n",
    "#%%\n",
    "A1= np.array(\n",
    "    [[1]])\n",
    "\n",
    "A2= np.array(\n",
    "    [[2,1],\n",
    "     [1,2]])\n",
    "\n",
    "A3= np.array(\n",
    "    [[3, 2, 1],\n",
    "     [2, 3, 2],\n",
    "     [1, 2, 3]])\n",
    "\n",
    "#%%\n",
    "A1,A2,A3"
   ]
  },
  {
   "cell_type": "code",
   "execution_count": 14,
   "id": "36737a71",
   "metadata": {},
   "outputs": [
    {
     "name": "stdout",
     "output_type": "stream",
     "text": [
      "\n",
      "A= \n",
      "[[2 4]\n",
      " [5 7]]   \n",
      "\n",
      "detA= \n",
      "-5.999999999999998\n",
      "\n",
      "invA= \n",
      "[[-1.16666667  0.66666667]\n",
      " [ 0.83333333 -0.33333333]]\n",
      "\n",
      "A_invA= \n",
      "[[ 1.00000000e+00 -2.22044605e-16]\n",
      " [ 4.44089210e-16  1.00000000e+00]]\n",
      "\n",
      "rankA= 2\n",
      "\n"
     ]
    }
   ],
   "source": [
    "#%% ry\n",
    "\n",
    "\n",
    "# Create matrix using NumPy\n",
    "A= [[2,4],\n",
    "    [5,7]]\n",
    "\n",
    "A= np.array(A)\n",
    "\n",
    "# Find matrix det, inv, matrix rank, and matrix maultiplication\n",
    "\n",
    "\n",
    "detA=   np.linalg.det(A)\n",
    "invA=   np.linalg.inv(A)\n",
    "A_invA= A@invA\n",
    "\n",
    "rankA= np.linalg.matrix_rank(A)\n",
    "\n",
    "print(f'''\n",
    "A= \n",
    "{A}   \n",
    "\n",
    "detA= \n",
    "{detA}\n",
    "\n",
    "invA= \n",
    "{invA}\n",
    "\n",
    "A_invA= \n",
    "{A_invA}\n",
    "\n",
    "rankA= {rankA}\n",
    "''')"
   ]
  },
  {
   "cell_type": "code",
   "execution_count": 15,
   "id": "a2983857",
   "metadata": {},
   "outputs": [],
   "source": [
    "assert np.allclose(\n",
    "    A_invA,\n",
    "    np.eye(A.shape[0]))"
   ]
  },
  {
   "cell_type": "code",
   "execution_count": 16,
   "id": "f8917271",
   "metadata": {},
   "outputs": [
    {
     "name": "stdout",
     "output_type": "stream",
     "text": [
      "x= [-1.83333333  1.16666667]\n"
     ]
    }
   ],
   "source": [
    "#%%\n",
    "#\n",
    "# Solving linear equations using NumPy\n",
    "#\n",
    "b= [1,-1]\n",
    "b= np.array(b)\n",
    "\n",
    "x= np.linalg.solve(A, b)\n",
    "print(f'x= {x}')\n",
    "\n",
    "assert np.allclose(\n",
    "    A@x, \n",
    "    b)"
   ]
  },
  {
   "cell_type": "code",
   "execution_count": 18,
   "id": "73fa544d",
   "metadata": {},
   "outputs": [
    {
     "name": "stdout",
     "output_type": "stream",
     "text": [
      "\n",
      "U= \n",
      "[[-0.45868991 -0.8885964 ]\n",
      " [-0.8885964   0.45868991]],\n",
      "\n",
      "σ= \n",
      "[9.67550764 0.6201225 ],\n",
      "\n",
      "V_T= \n",
      "[[-0.5540135  -0.83250768]\n",
      " [ 0.83250768 -0.5540135 ]]      \n",
      "\n"
     ]
    }
   ],
   "source": [
    "#%%\n",
    "\n",
    "# Decomposing a matrix using SVD\n",
    "\n",
    "U,σ,V_T= np.linalg.svd(A)\n",
    "\n",
    "\n",
    "print(f'''\n",
    "U= \n",
    "{U},\n",
    "\n",
    "σ= \n",
    "{σ},\n",
    "\n",
    "V_T= \n",
    "{V_T}      \n",
    "''')"
   ]
  },
  {
   "cell_type": "code",
   "execution_count": 19,
   "id": "38a054b4",
   "metadata": {},
   "outputs": [],
   "source": [
    "assert np.allclose(\n",
    "    A,\n",
    "    U@np.diag(σ)@V_T\n",
    "    )"
   ]
  },
  {
   "cell_type": "code",
   "execution_count": 21,
   "id": "20927c05",
   "metadata": {},
   "outputs": [
    {
     "name": "stdout",
     "output_type": "stream",
     "text": [
      "\n",
      "A=\n",
      "[[2 4]\n",
      " [5 7]]\n",
      "\n",
      "λ= \n",
      "[-0.62347538  9.62347538],\n",
      "\n",
      "E= \n",
      "[[-0.83619408 -0.46462222]\n",
      " [ 0.54843365 -0.885509  ]],   \n",
      "\n"
     ]
    }
   ],
   "source": [
    "#%%\n",
    "#\n",
    "# Eigenvectors and Eigenvalues using NumPy\n",
    "#\n",
    "\n",
    "λ, E= np.linalg.eig(A)\n",
    "\n",
    "print(f'''\n",
    "A=\n",
    "{A}\n",
    "\n",
    "λ= \n",
    "{λ},\n",
    "\n",
    "E= \n",
    "{E},   \n",
    "''')"
   ]
  },
  {
   "cell_type": "code",
   "execution_count": 22,
   "id": "7decc0d2",
   "metadata": {},
   "outputs": [],
   "source": [
    "assert np.allclose(\n",
    "    A,\n",
    "    E @ np.diag(λ) @ np.linalg.inv(E)\n",
    "    )"
   ]
  },
  {
   "cell_type": "code",
   "execution_count": 23,
   "id": "0cf42dbf",
   "metadata": {},
   "outputs": [
    {
     "name": "stdout",
     "output_type": "stream",
     "text": [
      "\n",
      "B=\n",
      "[[29 43]\n",
      " [43 65]],\n",
      "\n",
      "λ1= \n",
      "[ 0.38455192 93.61544808],\n",
      "\n",
      "E1= \n",
      "[[-0.83250768 -0.5540135 ]\n",
      " [ 0.5540135  -0.83250768]],   \n",
      "\n"
     ]
    }
   ],
   "source": [
    "#%%\n",
    "B= A.T@A\n",
    "\n",
    "λ1, E1= np.linalg.eig(B)\n",
    "\n",
    "print(f'''\n",
    "B=\n",
    "{B},\n",
    "\n",
    "λ1= \n",
    "{λ1},\n",
    "\n",
    "E1= \n",
    "{E1},   \n",
    "''')"
   ]
  },
  {
   "cell_type": "code",
   "execution_count": 24,
   "id": "54a2fad5",
   "metadata": {},
   "outputs": [],
   "source": [
    "assert np.allclose(\n",
    "    B,\n",
    "    E1 @ np.diag(λ1) @ np.linalg.inv(E1)\n",
    "    )"
   ]
  },
  {
   "cell_type": "code",
   "execution_count": 25,
   "id": "20837b15",
   "metadata": {},
   "outputs": [],
   "source": [
    "#%%\n",
    "\n",
    "L= np.linalg.cholesky(A@A.T)\n",
    "\n",
    "#%% ry"
   ]
  },
  {
   "cell_type": "code",
   "execution_count": 26,
   "id": "24031f82",
   "metadata": {},
   "outputs": [
    {
     "name": "stdout",
     "output_type": "stream",
     "text": [
      "{'rnk': 2, 'det': 2.9999999999999996, 'inv': array([[ 0.66666667, -0.33333333],\n",
      "       [-0.33333333,  0.66666667]]), 'ch': array([[1.41421356, 0.        ],\n",
      "       [0.70710678, 1.22474487]]), 'qr': (array([[-0.89442719, -0.4472136 ],\n",
      "       [-0.4472136 ,  0.89442719]]), array([[-2.23606798, -1.78885438],\n",
      "       [ 0.        ,  1.34164079]])), 'eig': (array([3., 1.]), array([[ 0.70710678, -0.70710678],\n",
      "       [ 0.70710678,  0.70710678]])), 'svd': (array([[-0.70710678, -0.70710678],\n",
      "       [-0.70710678,  0.70710678]]), array([3., 1.]), array([[-0.70710678, -0.70710678],\n",
      "       [-0.70710678,  0.70710678]]))}\n"
     ]
    }
   ],
   "source": [
    "#\n",
    "# for symmtric matrix\n",
    "#\n",
    "\n",
    "C= np.array(\n",
    "    [[2,1],\n",
    "     [1,2]])\n",
    "\n",
    "ans= {\n",
    "    'rnk':  np.linalg.matrix_rank(C),\n",
    "    'det':  np.linalg.det(C),\n",
    "    'inv':  np.linalg.inv(C),\n",
    "    'ch':   np.linalg.cholesky(C),\n",
    "    'qr':   np.linalg.qr(C),\n",
    "    'eig':  np.linalg.eig(C),\n",
    "    'svd':  np.linalg.svd(C)\n",
    "    }\n",
    "\n",
    "print(ans)"
   ]
  },
  {
   "cell_type": "code",
   "execution_count": 27,
   "id": "ccb86957",
   "metadata": {},
   "outputs": [
    {
     "name": "stdout",
     "output_type": "stream",
     "text": [
      "{'rnk': 3, 'det': 7.999999999999998, 'inv': array([[ 0.625, -0.5  ,  0.125],\n",
      "       [-0.5  ,  1.   , -0.5  ],\n",
      "       [ 0.125, -0.5  ,  0.625]]), 'ch': array([[1.73205081, 0.        , 0.        ],\n",
      "       [1.15470054, 1.29099445, 0.        ],\n",
      "       [0.57735027, 1.03279556, 1.26491106]]), 'qr': (array([[-0.80178373,  0.57735027,  0.15430335],\n",
      "       [-0.53452248, -0.57735027, -0.6172134 ],\n",
      "       [-0.26726124, -0.57735027,  0.77151675]]), array([[-3.74165739, -3.74165739, -2.67261242],\n",
      "       [ 0.        , -1.73205081, -2.30940108],\n",
      "       [ 0.        ,  0.        ,  1.2344268 ]])), 'eig': (array([6.37228132, 2.        , 0.62771868]), array([[-5.41774320e-01, -7.07106781e-01,  4.54401349e-01],\n",
      "       [-6.42620551e-01,  2.02188153e-16, -7.66184591e-01],\n",
      "       [-5.41774320e-01,  7.07106781e-01,  4.54401349e-01]])), 'svd': (array([[-5.41774320e-01,  7.07106781e-01,  4.54401349e-01],\n",
      "       [-6.42620551e-01,  3.28945004e-16, -7.66184591e-01],\n",
      "       [-5.41774320e-01, -7.07106781e-01,  4.54401349e-01]]), array([6.37228132, 2.        , 0.62771868]), array([[-5.41774320e-01, -6.42620551e-01, -5.41774320e-01],\n",
      "       [ 7.07106781e-01,  1.26126502e-16, -7.07106781e-01],\n",
      "       [ 4.54401349e-01, -7.66184591e-01,  4.54401349e-01]]))}\n"
     ]
    }
   ],
   "source": [
    "#%%\n",
    "C= np.array(\n",
    "    [[3,2,1],\n",
    "     [2,3,2],\n",
    "     [1,2,3]])\n",
    "\n",
    "ans= {\n",
    "    'rnk':  np.linalg.matrix_rank(C),\n",
    "    'det':  np.linalg.det(C),\n",
    "    'inv':  np.linalg.inv(C),\n",
    "    'ch':   np.linalg.cholesky(C),\n",
    "    'qr':   np.linalg.qr(C),\n",
    "    'eig':  np.linalg.eig(C),\n",
    "    'svd':  np.linalg.svd(C)\n",
    "    }\n",
    "\n",
    "print(ans)"
   ]
  }
 ],
 "metadata": {
  "kernelspec": {
   "display_name": "Python 3",
   "language": "python",
   "name": "python3"
  },
  "language_info": {
   "codemirror_mode": {
    "name": "ipython",
    "version": 3
   },
   "file_extension": ".py",
   "mimetype": "text/x-python",
   "name": "python",
   "nbconvert_exporter": "python",
   "pygments_lexer": "ipython3",
   "version": "3.8.8"
  }
 },
 "nbformat": 4,
 "nbformat_minor": 5
}
