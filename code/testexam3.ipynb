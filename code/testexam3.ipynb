{
 "cells": [
  {
   "cell_type": "code",
   "execution_count": 1,
   "id": "b1b09b50",
   "metadata": {},
   "outputs": [],
   "source": [
    "import sympy as sm"
   ]
  },
  {
   "cell_type": "code",
   "execution_count": 2,
   "id": "6cef84f6",
   "metadata": {},
   "outputs": [],
   "source": [
    "x = sm.symbols('x')"
   ]
  },
  {
   "cell_type": "code",
   "execution_count": 3,
   "id": "39e6447b",
   "metadata": {},
   "outputs": [],
   "source": [
    "y = sm.symbols('y')"
   ]
  },
  {
   "cell_type": "code",
   "execution_count": 4,
   "id": "25818e4a",
   "metadata": {},
   "outputs": [],
   "source": [
    "def f(x,y):\n",
    "    return (x-10)*(x-1)*(x+12)*(y-10)*(y-1)*(y+12)"
   ]
  },
  {
   "cell_type": "code",
   "execution_count": 5,
   "id": "b8c679be",
   "metadata": {},
   "outputs": [
    {
     "data": {
      "text/latex": [
       "$\\displaystyle \\left(x - 10\\right) \\left(x - 1\\right) \\left(x + 12\\right) \\left(y - 10\\right) \\left(y - 1\\right) \\left(y + 12\\right)$"
      ],
      "text/plain": [
       "(x - 10)*(x - 1)*(x + 12)*(y - 10)*(y - 1)*(y + 12)"
      ]
     },
     "execution_count": 5,
     "metadata": {},
     "output_type": "execute_result"
    }
   ],
   "source": [
    "f(x,y)"
   ]
  },
  {
   "cell_type": "code",
   "execution_count": 6,
   "id": "161120b3",
   "metadata": {
    "scrolled": false
   },
   "outputs": [
    {
     "data": {
      "text/latex": [
       "$\\displaystyle x^{3} y^{3} + x^{3} y^{2} - 122 x^{3} y + 120 x^{3} + x^{2} y^{3} + x^{2} y^{2} - 122 x^{2} y + 120 x^{2} - 122 x y^{3} - 122 x y^{2} + 14884 x y - 14640 x + 120 y^{3} + 120 y^{2} - 14640 y + 14400$"
      ],
      "text/plain": [
       "x**3*y**3 + x**3*y**2 - 122*x**3*y + 120*x**3 + x**2*y**3 + x**2*y**2 - 122*x**2*y + 120*x**2 - 122*x*y**3 - 122*x*y**2 + 14884*x*y - 14640*x + 120*y**3 + 120*y**2 - 14640*y + 14400"
      ]
     },
     "execution_count": 6,
     "metadata": {},
     "output_type": "execute_result"
    }
   ],
   "source": [
    "f(x,y).expand()"
   ]
  },
  {
   "cell_type": "code",
   "execution_count": 7,
   "id": "58a5d413",
   "metadata": {},
   "outputs": [],
   "source": [
    "dzx=f(x,y).diff(x)"
   ]
  },
  {
   "cell_type": "code",
   "execution_count": 8,
   "id": "2e5c4785",
   "metadata": {},
   "outputs": [
    {
     "data": {
      "text/latex": [
       "$\\displaystyle \\left(x - 10\\right) \\left(x - 1\\right) \\left(y - 10\\right) \\left(y - 1\\right) \\left(y + 12\\right) + \\left(x - 10\\right) \\left(x + 12\\right) \\left(y - 10\\right) \\left(y - 1\\right) \\left(y + 12\\right) + \\left(x - 1\\right) \\left(x + 12\\right) \\left(y - 10\\right) \\left(y - 1\\right) \\left(y + 12\\right)$"
      ],
      "text/plain": [
       "(x - 10)*(x - 1)*(y - 10)*(y - 1)*(y + 12) + (x - 10)*(x + 12)*(y - 10)*(y - 1)*(y + 12) + (x - 1)*(x + 12)*(y - 10)*(y - 1)*(y + 12)"
      ]
     },
     "execution_count": 8,
     "metadata": {},
     "output_type": "execute_result"
    }
   ],
   "source": [
    "dzx"
   ]
  },
  {
   "cell_type": "code",
   "execution_count": 9,
   "id": "a136978a",
   "metadata": {},
   "outputs": [
    {
     "data": {
      "text/latex": [
       "$\\displaystyle 3 x^{2} y^{3} + 3 x^{2} y^{2} - 366 x^{2} y + 360 x^{2} + 2 x y^{3} + 2 x y^{2} - 244 x y + 240 x - 122 y^{3} - 122 y^{2} + 14884 y - 14640$"
      ],
      "text/plain": [
       "3*x**2*y**3 + 3*x**2*y**2 - 366*x**2*y + 360*x**2 + 2*x*y**3 + 2*x*y**2 - 244*x*y + 240*x - 122*y**3 - 122*y**2 + 14884*y - 14640"
      ]
     },
     "execution_count": 9,
     "metadata": {},
     "output_type": "execute_result"
    }
   ],
   "source": [
    "dzx.expand()"
   ]
  },
  {
   "cell_type": "code",
   "execution_count": 10,
   "id": "a131ff83",
   "metadata": {},
   "outputs": [],
   "source": [
    "dzy=f(x,y).diff(y)"
   ]
  },
  {
   "cell_type": "code",
   "execution_count": 11,
   "id": "86641bad",
   "metadata": {},
   "outputs": [
    {
     "data": {
      "text/latex": [
       "$\\displaystyle \\left(x - 10\\right) \\left(x - 1\\right) \\left(x + 12\\right) \\left(y - 10\\right) \\left(y - 1\\right) + \\left(x - 10\\right) \\left(x - 1\\right) \\left(x + 12\\right) \\left(y - 10\\right) \\left(y + 12\\right) + \\left(x - 10\\right) \\left(x - 1\\right) \\left(x + 12\\right) \\left(y - 1\\right) \\left(y + 12\\right)$"
      ],
      "text/plain": [
       "(x - 10)*(x - 1)*(x + 12)*(y - 10)*(y - 1) + (x - 10)*(x - 1)*(x + 12)*(y - 10)*(y + 12) + (x - 10)*(x - 1)*(x + 12)*(y - 1)*(y + 12)"
      ]
     },
     "execution_count": 11,
     "metadata": {},
     "output_type": "execute_result"
    }
   ],
   "source": [
    "dzy"
   ]
  },
  {
   "cell_type": "code",
   "execution_count": 12,
   "id": "6d062652",
   "metadata": {},
   "outputs": [
    {
     "data": {
      "text/latex": [
       "$\\displaystyle 3 x^{3} y^{2} + 2 x^{3} y - 122 x^{3} + 3 x^{2} y^{2} + 2 x^{2} y - 122 x^{2} - 366 x y^{2} - 244 x y + 14884 x + 360 y^{2} + 240 y - 14640$"
      ],
      "text/plain": [
       "3*x**3*y**2 + 2*x**3*y - 122*x**3 + 3*x**2*y**2 + 2*x**2*y - 122*x**2 - 366*x*y**2 - 244*x*y + 14884*x + 360*y**2 + 240*y - 14640"
      ]
     },
     "execution_count": 12,
     "metadata": {},
     "output_type": "execute_result"
    }
   ],
   "source": [
    "dzy.expand()"
   ]
  },
  {
   "cell_type": "code",
   "execution_count": 13,
   "id": "9e7bc78f",
   "metadata": {},
   "outputs": [],
   "source": [
    "eq1= sm.Eq(dzx, 0)"
   ]
  },
  {
   "cell_type": "code",
   "execution_count": 14,
   "id": "fa8d6f5c",
   "metadata": {},
   "outputs": [],
   "source": [
    "eq2= sm.Eq(dzy, 0)"
   ]
  },
  {
   "cell_type": "code",
   "execution_count": 15,
   "id": "1f03497a",
   "metadata": {},
   "outputs": [
    {
     "data": {
      "text/latex": [
       "$\\displaystyle \\left(x - 10\\right) \\left(x - 1\\right) \\left(y - 10\\right) \\left(y - 1\\right) \\left(y + 12\\right) + \\left(x - 10\\right) \\left(x + 12\\right) \\left(y - 10\\right) \\left(y - 1\\right) \\left(y + 12\\right) + \\left(x - 1\\right) \\left(x + 12\\right) \\left(y - 10\\right) \\left(y - 1\\right) \\left(y + 12\\right) = 0$"
      ],
      "text/plain": [
       "Eq((x - 10)*(x - 1)*(y - 10)*(y - 1)*(y + 12) + (x - 10)*(x + 12)*(y - 10)*(y - 1)*(y + 12) + (x - 1)*(x + 12)*(y - 10)*(y - 1)*(y + 12), 0)"
      ]
     },
     "execution_count": 15,
     "metadata": {},
     "output_type": "execute_result"
    }
   ],
   "source": [
    "eq1"
   ]
  },
  {
   "cell_type": "code",
   "execution_count": 16,
   "id": "6431c1ff",
   "metadata": {},
   "outputs": [
    {
     "data": {
      "text/latex": [
       "$\\displaystyle \\left(x - 10\\right) \\left(x - 1\\right) \\left(x + 12\\right) \\left(y - 10\\right) \\left(y - 1\\right) + \\left(x - 10\\right) \\left(x - 1\\right) \\left(x + 12\\right) \\left(y - 10\\right) \\left(y + 12\\right) + \\left(x - 10\\right) \\left(x - 1\\right) \\left(x + 12\\right) \\left(y - 1\\right) \\left(y + 12\\right) = 0$"
      ],
      "text/plain": [
       "Eq((x - 10)*(x - 1)*(x + 12)*(y - 10)*(y - 1) + (x - 10)*(x - 1)*(x + 12)*(y - 10)*(y + 12) + (x - 10)*(x - 1)*(x + 12)*(y - 1)*(y + 12), 0)"
      ]
     },
     "execution_count": 16,
     "metadata": {},
     "output_type": "execute_result"
    }
   ],
   "source": [
    "eq2"
   ]
  },
  {
   "cell_type": "code",
   "execution_count": 17,
   "id": "5b2fc031",
   "metadata": {},
   "outputs": [],
   "source": [
    "s=sm.solve([eq1, eq2],x,y,  \n",
    "    dict=True,  \n",
    "    #simplify=True \n",
    ") "
   ]
  },
  {
   "cell_type": "code",
   "execution_count": 18,
   "id": "082ef373",
   "metadata": {},
   "outputs": [
    {
     "data": {
      "text/plain": [
       "13"
      ]
     },
     "execution_count": 18,
     "metadata": {},
     "output_type": "execute_result"
    }
   ],
   "source": [
    "len(s)"
   ]
  },
  {
   "cell_type": "code",
   "execution_count": 19,
   "id": "519517a3",
   "metadata": {},
   "outputs": [
    {
     "data": {
      "text/plain": [
       "[{x: -12, y: -12},\n",
       " {x: -12, y: 1},\n",
       " {x: -12, y: 10},\n",
       " {x: 1, y: -12},\n",
       " {x: 1, y: 1},\n",
       " {x: 1, y: 10},\n",
       " {x: 10, y: -12},\n",
       " {x: 10, y: 1},\n",
       " {x: 10, y: 10},\n",
       " {x: -1/3 + sqrt(367)/3, y: -1/3 + sqrt(367)/3},\n",
       " {x: -1/3 + sqrt(367)/3, y: -sqrt(367)/3 - 1/3},\n",
       " {x: -sqrt(367)/3 - 1/3, y: -1/3 + sqrt(367)/3},\n",
       " {x: -sqrt(367)/3 - 1/3, y: -sqrt(367)/3 - 1/3}]"
      ]
     },
     "execution_count": 19,
     "metadata": {},
     "output_type": "execute_result"
    }
   ],
   "source": [
    "s"
   ]
  },
  {
   "cell_type": "code",
   "execution_count": 20,
   "id": "fae2af13",
   "metadata": {},
   "outputs": [],
   "source": [
    "%matplotlib qt"
   ]
  },
  {
   "cell_type": "code",
   "execution_count": 21,
   "id": "1afa347a",
   "metadata": {},
   "outputs": [],
   "source": [
    "fg= sm.plotting.plot3d(\n",
    "    f(x,y),\n",
    "    (x,-10,10),(y,-10,10), \n",
    "    xlabel='x', \n",
    "    ylabel='y', \n",
    "    title=f'z= {f(x,y)}'\n",
    ") "
   ]
  },
  {
   "cell_type": "code",
   "execution_count": null,
   "id": "49a4dd68",
   "metadata": {},
   "outputs": [],
   "source": []
  }
 ],
 "metadata": {
  "kernelspec": {
   "display_name": "Python 3",
   "language": "python",
   "name": "python3"
  },
  "language_info": {
   "codemirror_mode": {
    "name": "ipython",
    "version": 3
   },
   "file_extension": ".py",
   "mimetype": "text/x-python",
   "name": "python",
   "nbconvert_exporter": "python",
   "pygments_lexer": "ipython3",
   "version": "3.8.8"
  }
 },
 "nbformat": 4,
 "nbformat_minor": 5
}
