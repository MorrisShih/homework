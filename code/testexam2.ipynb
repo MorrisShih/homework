{
 "cells": [
  {
   "cell_type": "code",
   "execution_count": 91,
   "id": "541d4511",
   "metadata": {},
   "outputs": [],
   "source": [
    "import sympy as sm"
   ]
  },
  {
   "cell_type": "code",
   "execution_count": 92,
   "id": "c121cb01",
   "metadata": {},
   "outputs": [],
   "source": [
    "import numpy as np"
   ]
  },
  {
   "cell_type": "code",
   "execution_count": 121,
   "id": "015ea2a8",
   "metadata": {},
   "outputs": [],
   "source": [
    "import sympy.plotting as smpl"
   ]
  },
  {
   "cell_type": "code",
   "execution_count": 122,
   "id": "f09ebaf6",
   "metadata": {},
   "outputs": [],
   "source": [
    "from scipy import optimize"
   ]
  },
  {
   "cell_type": "code",
   "execution_count": 94,
   "id": "1782616a",
   "metadata": {},
   "outputs": [],
   "source": [
    "x = sm.symbols('x')"
   ]
  },
  {
   "cell_type": "code",
   "execution_count": 110,
   "id": "3051256e",
   "metadata": {},
   "outputs": [],
   "source": [
    "def f(x):\n",
    "    return x**4+4*x**3-79*x**2-226*x+720"
   ]
  },
  {
   "cell_type": "code",
   "execution_count": 111,
   "id": "4964a238",
   "metadata": {},
   "outputs": [],
   "source": [
    "def f_1(x):\n",
    "    return f(x).diff(x)"
   ]
  },
  {
   "cell_type": "code",
   "execution_count": 115,
   "id": "2d493927",
   "metadata": {},
   "outputs": [],
   "source": [
    "def f_2(x):\n",
    "    return f_1(x).diff(x)"
   ]
  },
  {
   "cell_type": "code",
   "execution_count": 118,
   "id": "cee2c8c0",
   "metadata": {},
   "outputs": [
    {
     "data": {
      "text/latex": [
       "$\\displaystyle x^{4} + 4 x^{3} - 79 x^{2} - 226 x + 720$"
      ],
      "text/plain": [
       "x**4 + 4*x**3 - 79*x**2 - 226*x + 720"
      ]
     },
     "execution_count": 118,
     "metadata": {},
     "output_type": "execute_result"
    }
   ],
   "source": [
    "f(x)"
   ]
  },
  {
   "cell_type": "code",
   "execution_count": 119,
   "id": "8aed0f66",
   "metadata": {},
   "outputs": [
    {
     "data": {
      "text/latex": [
       "$\\displaystyle 4 x^{3} + 12 x^{2} - 158 x - 226$"
      ],
      "text/plain": [
       "4*x**3 + 12*x**2 - 158*x - 226"
      ]
     },
     "execution_count": 119,
     "metadata": {},
     "output_type": "execute_result"
    }
   ],
   "source": [
    "f_1(x)"
   ]
  },
  {
   "cell_type": "code",
   "execution_count": 124,
   "id": "1df23bd7",
   "metadata": {},
   "outputs": [
    {
     "data": {
      "text/latex": [
       "$\\displaystyle 12 x^{2} + 24 x - 158$"
      ],
      "text/plain": [
       "12*x**2 + 24*x - 158"
      ]
     },
     "execution_count": 124,
     "metadata": {},
     "output_type": "execute_result"
    }
   ],
   "source": [
    "f_2(x)"
   ]
  },
  {
   "cell_type": "code",
   "execution_count": 125,
   "id": "b3371cfa",
   "metadata": {},
   "outputs": [
    {
     "name": "stdout",
     "output_type": "stream",
     "text": [
      "Optimization terminated successfully.\n",
      "         Current function value: -1338.560203\n",
      "         Iterations: 21\n",
      "         Function evaluations: 42\n"
     ]
    }
   ],
   "source": [
    "minimum = optimize.fmin(f, 1)"
   ]
  },
  {
   "cell_type": "code",
   "execution_count": 127,
   "id": "219e0324",
   "metadata": {},
   "outputs": [
    {
     "data": {
      "text/plain": [
       "-1338.5602025088983"
      ]
     },
     "execution_count": 127,
     "metadata": {},
     "output_type": "execute_result"
    }
   ],
   "source": [
    "f(minimum[0])"
   ]
  },
  {
   "cell_type": "code",
   "execution_count": 100,
   "id": "a389153a",
   "metadata": {},
   "outputs": [],
   "source": [
    "%matplotlib qt"
   ]
  },
  {
   "cell_type": "code",
   "execution_count": 128,
   "id": "539cbaae",
   "metadata": {},
   "outputs": [],
   "source": [
    "fg=smpl.plot(\n",
    "    f(x),f_1(x),f_2(x),\n",
    "    (x,-10,10),\n",
    "    xlabel=f'{x}',\n",
    "    flabel=f'f',\n",
    "    title=f'f= x**4+4*x**3-79*x**2-226*x+720\\nf_1=f.diff(x)\\nf_2 = f_1.diff(x)',\n",
    "    show=False\n",
    ")"
   ]
  },
  {
   "cell_type": "code",
   "execution_count": 130,
   "id": "18c97213",
   "metadata": {},
   "outputs": [],
   "source": [
    "fg[0].line_color='cyan'"
   ]
  },
  {
   "cell_type": "code",
   "execution_count": 131,
   "id": "af25dcbe",
   "metadata": {},
   "outputs": [],
   "source": [
    "fg[1].line_color='magenta'"
   ]
  },
  {
   "cell_type": "code",
   "execution_count": 132,
   "id": "dbd6edee",
   "metadata": {},
   "outputs": [],
   "source": [
    "fg[2].line_color='yellow'"
   ]
  },
  {
   "cell_type": "code",
   "execution_count": 133,
   "id": "1442e65e",
   "metadata": {},
   "outputs": [],
   "source": [
    "fg.legend=True"
   ]
  },
  {
   "cell_type": "code",
   "execution_count": 134,
   "id": "0fcfade8",
   "metadata": {},
   "outputs": [],
   "source": [
    "fg.show()"
   ]
  }
 ],
 "metadata": {
  "kernelspec": {
   "display_name": "Python 3",
   "language": "python",
   "name": "python3"
  },
  "language_info": {
   "codemirror_mode": {
    "name": "ipython",
    "version": 3
   },
   "file_extension": ".py",
   "mimetype": "text/x-python",
   "name": "python",
   "nbconvert_exporter": "python",
   "pygments_lexer": "ipython3",
   "version": "3.8.8"
  }
 },
 "nbformat": 4,
 "nbformat_minor": 5
}
